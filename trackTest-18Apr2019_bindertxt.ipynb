{
 "cells": [
  {
   "cell_type": "code",
   "execution_count": 1,
   "metadata": {
    "collapsed": false,
    "deletable": true,
    "editable": true
   },
   "outputs": [
    {
     "ename": "ImportError",
     "evalue": "No module named 'seaborn'",
     "output_type": "error",
     "traceback": [
      "\u001b[0;31m---------------------------------------------------------------------------\u001b[0m",
      "\u001b[0;31mImportError\u001b[0m                               Traceback (most recent call last)",
      "\u001b[0;32m<ipython-input-1-cbeddf75b4e7>\u001b[0m in \u001b[0;36m<module>\u001b[0;34m()\u001b[0m\n\u001b[1;32m     12\u001b[0m \u001b[0;32mfrom\u001b[0m \u001b[0mshutil\u001b[0m \u001b[0;32mimport\u001b[0m \u001b[0mcopyfile\u001b[0m\u001b[0;34m\u001b[0m\u001b[0m\n\u001b[1;32m     13\u001b[0m \u001b[0;32mimport\u001b[0m \u001b[0mmath\u001b[0m\u001b[0;34m\u001b[0m\u001b[0m\n\u001b[0;32m---> 14\u001b[0;31m \u001b[0;32mimport\u001b[0m \u001b[0mseaborn\u001b[0m \u001b[0;32mas\u001b[0m \u001b[0msns\u001b[0m\u001b[0;34m\u001b[0m\u001b[0m\n\u001b[0m\u001b[1;32m     15\u001b[0m \u001b[0msns\u001b[0m\u001b[0;34m.\u001b[0m\u001b[0mset_context\u001b[0m\u001b[0;34m(\u001b[0m\u001b[0;34m'talk'\u001b[0m\u001b[0;34m)\u001b[0m\u001b[0;34m\u001b[0m\u001b[0m\n",
      "\u001b[0;31mImportError\u001b[0m: No module named 'seaborn'"
     ]
    }
   ],
   "source": [
    "## Imports: \n",
    "import numpy as np \n",
    "import matplotlib.pyplot as plt\n",
    "import pandas as pd\n",
    "import scipy.stats as stats\n",
    "import StatisticalMetrics as SM \n",
    "import readRthRaw as RTH \n",
    "import snrCalc as SNRC\n",
    "import glob\n",
    "import re\n",
    "import os \n",
    "from shutil import copyfile\n",
    "import math\n",
    "import seaborn as sns\n",
    "sns.set_context('talk')"
   ]
  },
  {
   "cell_type": "markdown",
   "metadata": {
    "deletable": true,
    "editable": true
   },
   "source": [
    "# trackTest-18Apr2019\n",
    "\n",
    "### Experiment Notes: \n",
    "In this experiment three electrophysiology catheters from the same manufacturer batch were placed in a fixture in a PAA phantom aligned along the main magnetic field. They were placed in two positions: near iso-centre, as well as at an off-isocentre position.\n",
    "\n",
    "The full MR protocol is described [here](http://panoptes.sri.utoronto.ca:8090/confluence/display/IP/trackTest-18Apr2019+Catheter+Variance+Protocol)\n",
    "\n",
    "Data stored at ircci-share/Data/track\n",
    "\t•\tFull analysis done by Jay Soni\n",
    "\n",
    "### Data Analysis\n",
    "For simplicity, only the isocentre positions will be analysed. (Off-isocentre positions require a proprietary unwarping algorithm.)\n",
    "\n",
    "### Localization Algorithms\n",
    "Two custom algorithms from the Statistical Metrics module are run in the cells below."
   ]
  },
  {
   "cell_type": "code",
   "execution_count": 15,
   "metadata": {
    "collapsed": true
   },
   "outputs": [],
   "source": [
    "temp_folder = \"./test/\" #A temporary folder directory for output. In on binder set this to \"/tmp/\"\n",
    "!mkdir -p $temp_folder"
   ]
  },
  {
   "cell_type": "code",
   "execution_count": 16,
   "metadata": {
    "collapsed": false,
    "deletable": true,
    "editable": true
   },
   "outputs": [],
   "source": [
    "ls $temp_folder"
   ]
  },
  {
   "cell_type": "code",
   "execution_count": 17,
   "metadata": {
    "collapsed": false,
    "deletable": true,
    "editable": true
   },
   "outputs": [],
   "source": [
    "## Path/Constant variables:\n",
    "#experiment_path = \"trackTest-18Apr2019/\"\n",
    "experiment_path = temp_folder+\"trackTest-18Apr2019/\"\n",
    "!mkdir $experiment_path\n",
    "## this is a local directory, (used to reduce processing time) a global directory can be used as well: \n",
    "## experiment_path = \"/volumes/ircci-share/data/trackTest-18Apr2019/\"\n",
    "\n",
    "catheters = [\"cath284\", \"cath299\", \"cath285\"]\n",
    "positions = [\"iso\"]\n",
    "sequences = [\"fastHadamard\", \"SRI\"]\n",
    "algos = {\"CentAlg1\":SM.custm_centroid, \"CentAlg4\":SM.new_centroid_algorithm}\n",
    "alg_params = {\"CentAlg1\":{\"CoilLength\":2.0,\"Cutoff_value\":0.5}, \"CentAlg4\":{\"window_width\":1}}\n",
    "coil_label_patternSRI = [\"cathcoil4\", \"cathcoil5\"]\n",
    "coil_label_patternFH = [\"cathHVC4\", \"cathHVC5\"]\n",
    "projection_label_pattern = [\"P0\", \"P1\", \"P2\", \"P3\"]\n",
    "dither_label_pattern = [\"D0\", \"D1\", \"D2\"]\n",
    "fieldofview = [\"fov60\"] \n",
    "\n",
    "linearRecomb = [[-1,1,1,-1],[-1,1,-1,1],[-1,-1,1,1]]\n",
    "linearRecomb = np.array(linearRecomb)\n",
    "linearRecomb = (3**0.5/4.0)*linearRecomb\n",
    "\n",
    "## Ground truth Coordinates: \n",
    "Off_Iso_Transform = [8.025, 0.0, -149.71]\n",
    "\n",
    "coordinates_iso = [[[3.738, 5.541, 1.565], [3.70, 5.564, -6.205]],  ## Cath284  (mm)\n",
    "                   [[6.638, 5.914, 2.940], [6.774, 6.028, -4.828]],  ## Cath299 (mm)\n",
    "                   [[5.969, 6.055, 0.381], [5.929, 6.079, -7.389]]]  ## Cath285 (mm)\n",
    "                        ## Distal (4)          Proximal (5)\n",
    "    \n",
    "coordinates_offiso = [[[11.763, 5.541, -148.145], [11.725, 5.564, -155.915]],  ## Cath284  (mm)\n",
    "                      [[14.663, 5.914, -146.77], [14.799, 6.028, -154.538]],  ## Cath299 (mm)\n",
    "                      [[13.994, 6.055, -149.329], [13.954, 6.079, -157.099]]]  ## Cath285 (mm)\n",
    "                          ## Distal (4)             Proximal (5)\n",
    "    \n",
    "    \n",
    "Ground_Truth = [coordinates_iso, coordinates_offiso]\n",
    "\n"
   ]
  },
  {
   "cell_type": "code",
   "execution_count": 18,
   "metadata": {
    "collapsed": false,
    "deletable": true,
    "editable": true
   },
   "outputs": [
    {
     "name": "stdout",
     "output_type": "stream",
     "text": [
      "trackTest-18Apr2019\r\n"
     ]
    }
   ],
   "source": [
    "!ls $temp_folder"
   ]
  },
  {
   "cell_type": "code",
   "execution_count": 19,
   "metadata": {
    "collapsed": true,
    "deletable": true,
    "editable": true
   },
   "outputs": [],
   "source": [
    "!mkdir $experiment_path/WarpedCoordinates "
   ]
  },
  {
   "cell_type": "code",
   "execution_count": 23,
   "metadata": {
    "collapsed": false
   },
   "outputs": [
    {
     "data": {
      "text/plain": [
       "'./test/trackTest-18Apr2019/'"
      ]
     },
     "execution_count": 23,
     "metadata": {},
     "output_type": "execute_result"
    }
   ],
   "source": [
    "experiment_path"
   ]
  },
  {
   "cell_type": "code",
   "execution_count": 24,
   "metadata": {
    "collapsed": false,
    "deletable": true,
    "editable": true
   },
   "outputs": [
    {
     "name": "stdout",
     "output_type": "stream",
     "text": [
      "./test/trackTest-18Apr2019/fastHadamard/cath284/fastHadamard_Tracking-iso/\n",
      "./test/trackTest-18Apr2019/fastHadamard/cath299/fastHadamard_Tracking-iso/\n",
      "./test/trackTest-18Apr2019/fastHadamard/cath285/fastHadamard_Tracking-iso/\n",
      "./test/trackTest-18Apr2019/SRI/cath284/SRI_Catheter_Tracking-iso/\n",
      "./test/trackTest-18Apr2019/SRI/cath299/SRI_Catheter_Tracking-iso/\n",
      "./test/trackTest-18Apr2019/SRI/cath285/SRI_Catheter_Tracking-iso/\n",
      "Done Copying!\n"
     ]
    }
   ],
   "source": [
    "for seq in sequences:\n",
    "    for cath in catheters: \n",
    "        for pos in positions: \n",
    "            if (seq == \"SRI\"): \n",
    "                path = experiment_path + seq + \"/\" + cath + \"/\" + 'SRI_Catheter_Tracking-' + pos + \"/\"\n",
    "                in_path = \"./trackTest-18Apr2019/\"+ seq + \"/\" + cath + \"/\" + 'SRI_Catheter_Tracking-' + pos + \"/\"\n",
    "                \n",
    "                !mkdir -p $path \n",
    "                print(path)\n",
    "\n",
    "                files = glob.glob(inpath+\"cathcoil[4-5]*projections\")\n",
    "                for file in files: \n",
    "                    xsize,ysize,zsize,FOV,projNum,triggerTimes,respPhases,timestamps,projComplex = RTH.readProjections(file)\n",
    "                    fts = RTH.reconstructProjections(projComplex,xsize,ysize)\n",
    "\n",
    "                    file_suffix = (file.split(\"/\"))[-1]\n",
    "                    for alg in algos:\n",
    "                        new_name = \"warpedcoords\" + alg + '-' + seq + \"-\" + cath + \"-\" + pos + \"-\" + (file_suffix.split(\".\"))[0]\n",
    "\n",
    "                        ## CentAlg1 : is the standard centroid algorithm with \n",
    "                        ##      window_scale 2.5 and cut off value at 0.5 \n",
    "\n",
    "                        ## CentAlg2 : is the standard centroid algorithm with \n",
    "                        ##      window_scale 2.5 and cut off value at 0 \n",
    "\n",
    "                        ## CentAlg3 : is the new centroid algorithm with \n",
    "                        ##      peak normed gaussian and width is 8 mm\n",
    "\n",
    "                        ## CentAlg4 : is the new centroid algorithm with \n",
    "                        ##      peak normed gaussian and width is 1 mm\n",
    "\n",
    "                        txt_file = open(experiment_path + \"WarpedCoordinates/\" + new_name + \".txt\", 'w')\n",
    "\n",
    "                        lst_of_vals = [[],[],[]]\n",
    "\n",
    "                        for index, element in enumerate(fts):\n",
    "                            parms = alg_params[alg]\n",
    "                            parms[\"ProjectionFT\"] = element\n",
    "                            parms[\"FieldOfView\"] = FOV\n",
    "                            centroidInd, centroidCoord = algos[alg](**parms) \n",
    "                                                        #SM.new_centroid_algorithm(element, FOV, window_width=1)\n",
    "                                                        #SM.custm_centroid(element, FOV, 2.0, Cutoff_value=0.5) \n",
    "\n",
    "                                                                           ## calculates coil position\n",
    "                                                                            ## using centroid algorithm\n",
    "\n",
    "                            lst_of_vals[index%3].append(centroidCoord)                               \n",
    "\n",
    "\n",
    "                        for i in range(min(len(lst_of_vals[0]),len(lst_of_vals[1]),len(lst_of_vals[2]))):\n",
    "                            txt_file.write(\"{} {} {} \\n\".format(lst_of_vals[0][i],lst_of_vals[1][i],lst_of_vals[2][i]))  \n",
    "                                                                                  ## writes data to text file, \n",
    "                                                                                  ## first column = x-axis \n",
    "                                                                                  ## second column = y-axis\n",
    "                                                                                  ## third column = z-axis                                                             \n",
    "                        txt_file.close()\n",
    "\n",
    "            else:\n",
    "                path = experiment_path + seq + \"/\" + cath + \"/\" + 'fastHadamard_Tracking-' + pos + \"/\"\n",
    "                inpath = \"./trackTest-18Apr2019/\"+ seq + \"/\" + cath + \"/\" + 'fastHadamard_Tracking-' + pos + \"/\"\n",
    "                print(path)\n",
    "                !mkdir -p $path \n",
    "                for alg in algos:\n",
    "                    for coil_label in (coil_label_patternFH):\n",
    "                        p0 = []\n",
    "                        p1 = []\n",
    "                        p2 = []\n",
    "                        p3 = []\n",
    "                        Projections = [p0,p1,p2,p3]\n",
    "                        txt_file = open(experiment_path + \"WarpedCoordinates/\" + \"warpedcoords\" + alg + \"-\" + seq + \"-\" + cath + \"-\" + pos + \"-\" + coil_label + \".txt\", 'w')\n",
    "\n",
    "                        ## CentAlg1 : is the standard centroid algorithm with \n",
    "                        ##      window_scale 2.5 and cut off value at 0.5 \n",
    "\n",
    "                        ## CentAlg2 : is the standard centroid algorithm with \n",
    "                        ##      window_scale 2.5 and cut off value at 0 \n",
    "\n",
    "                        ## CentAlg3 : is the new centroid algorithm with \n",
    "                        ##      peak normed gaussian and width is 8 mm\n",
    "\n",
    "                        ## CentAlg4 : is the new centroid algorithm with \n",
    "                        ##      peak normed gaussian and width is 1 mm\n",
    "\n",
    "                        for projection_number, projection_label in enumerate(projection_label_pattern): \n",
    "                            fft = [[],[],[]]\n",
    "                            pNum = [0,0,0]\n",
    "                            FOVS = [0,0,0]\n",
    "\n",
    "                            for dither_number, dither_label in enumerate(dither_label_pattern): \n",
    "                                file_name = (glob.glob(inpath + coil_label + projection_label + dither_label + \"*.projections\"))[0]\n",
    "\n",
    "                                xsize,ysize,zsize,FOV,projNum,triggerTimes,respPhases,timestamps,projComplex = RTH.readProjections(file_name)\n",
    "                                fts = RTH.reconstructProjections(projComplex,xsize,ysize)\n",
    "\n",
    "                                fft[dither_number] = fts \n",
    "                                pNum[dither_number] = projNum\n",
    "                                FOVS[dither_number] = FOV\n",
    "\n",
    "                            for index in range(min(pNum)):\n",
    "                                mag0 = abs(fft[0][index])\n",
    "                                mag1 = abs(fft[1][index])\n",
    "                                mag2 = abs(fft[2][index])\n",
    "\n",
    "                                peak0 = max(mag0) \n",
    "                                peak1 = max(mag1)\n",
    "                                peak2 = max(mag2)\n",
    "\n",
    "                                dither = np.argmax(np.array([peak0,peak1,peak2]))\n",
    "                                parms = alg_params[alg]\n",
    "                                parms[\"ProjectionFT\"] = fft[dither][index]\n",
    "                                parms[\"FieldOfView\"] = FOVS[dither]\n",
    "                                centroidInd, centroidCoord = algos[alg](**parms) \n",
    "                                #centroidInd, centroidCoord = SM.new_centroid_algorithm(fft[dither][index], FOVS[dither], window_width=1)\n",
    "                                                            #SM.custm_centroid(fft[dither][index], FOVS[dither], 2.0, Cutoff_value=0.5)\n",
    "\n",
    "                                                                                ## calculates coil position\n",
    "                                                                                ## using centroid algorithm\n",
    "\n",
    "                                Projections[projection_number].append(centroidCoord)\n",
    "\n",
    "\n",
    "                        for i in range(min(len(p0), len(p1), len(p2), len(p3))):\n",
    "                            projection_array = np.array([[p0[i]], [p1[i]], [p2[i]], [p3[i]]])\n",
    "                            coords = np.dot(linearRecomb, projection_array)\n",
    "\n",
    "                            txt_file.write(\"{} {} {} \\n\".format(float(coords[0]),float(coords[1]),float(coords[2])))  \n",
    "\n",
    "\n",
    "                        txt_file.close()\n",
    "\n",
    "print(\"Done Copying!\")"
   ]
  },
  {
   "cell_type": "code",
   "execution_count": 26,
   "metadata": {
    "collapsed": false,
    "deletable": true,
    "editable": true
   },
   "outputs": [
    {
     "data": {
      "text/plain": [
       "['./trackTest-18Apr2019/fastHadamard/cath285/fastHadamard_Tracking-iso/cathHVC5P3D2-0000.projections']"
      ]
     },
     "execution_count": 26,
     "metadata": {},
     "output_type": "execute_result"
    }
   ],
   "source": [
    "glob.glob(inpath + coil_label + projection_label + dither_label + \"*.projections\")"
   ]
  },
  {
   "cell_type": "code",
   "execution_count": 27,
   "metadata": {
    "collapsed": false,
    "deletable": true,
    "editable": true
   },
   "outputs": [
    {
     "data": {
      "text/plain": [
       "'./test/trackTest-18Apr2019/SRI/cath285/SRI_Catheter_Tracking-iso/'"
      ]
     },
     "execution_count": 27,
     "metadata": {},
     "output_type": "execute_result"
    }
   ],
   "source": [
    "path"
   ]
  },
  {
   "cell_type": "code",
   "execution_count": 28,
   "metadata": {
    "collapsed": true,
    "deletable": true,
    "editable": true
   },
   "outputs": [],
   "source": [
    "ls $path"
   ]
  },
  {
   "cell_type": "code",
   "execution_count": 30,
   "metadata": {
    "collapsed": false,
    "deletable": true,
    "editable": true
   },
   "outputs": [
    {
     "name": "stdout",
     "output_type": "stream",
     "text": [
      "ls: 无法访问./test/trackTest-18Apr2019/SRI/cath285/SRI_Catheter_Tracking-iso//trackTest-18Apr2019/WarpedCoordinates/: 没有那个文件或目录\r\n"
     ]
    }
   ],
   "source": [
    "!ls $path/trackTest-18Apr2019/WarpedCoordinates/"
   ]
  },
  {
   "cell_type": "markdown",
   "metadata": {
    "deletable": true,
    "editable": true
   },
   "source": [
    "#### Unwarping not performed\n",
    "\n",
    "The coil coordinates which have been saved to the WarpedCoordinates folder could have potentially fallen victim to gradient warping and should be unwarped, however the unwarping code is not available outside of SRI. Only near-isocentre positions will be analysed."
   ]
  },
  {
   "cell_type": "code",
   "execution_count": 31,
   "metadata": {
    "collapsed": false,
    "deletable": true,
    "editable": true,
    "scrolled": true
   },
   "outputs": [
    {
     "name": "stdout",
     "output_type": "stream",
     "text": [
      "Done Copying!\n",
      "12\n"
     ]
    }
   ],
   "source": [
    "## This bit of code copys the unwarped coordinates for each coil and places them in the correct folder so they can be easily\n",
    "## accessed for future use. \n",
    "counter = 0\n",
    "\n",
    "for seq in sequences:\n",
    "    for cath in catheters: \n",
    "        for pos in positions:\n",
    "            for alg in algos:\n",
    "                if (seq == \"SRI\"): \n",
    "                    path = experiment_path + seq + \"/\" + cath + \"/\" + 'SRI_Catheter_Tracking-' + pos + \"/\"\n",
    "                    path_warped = experiment_path + \"WarpedCoordinates/\"\n",
    "\n",
    "                    files = glob.glob(path_warped + \"warpedcoords\" + alg + \"-\" + seq + \"-\" + cath + \"-\" + pos + \"-cathcoil*.txt\")\n",
    "\n",
    "                    for file in files: \n",
    "                        name = (file.split(\"/\"))[-1]\n",
    "                        copyfile(file, path + name)     \n",
    "                        counter += 1\n",
    "\n",
    "                else:\n",
    "                    path = experiment_path + seq + \"/\" + cath + \"/\" + 'fastHadamard_Tracking-' + pos + \"/\"\n",
    "                    path_warped = experiment_path + \"WarpedCoordinates/\"\n",
    "\n",
    "                    file1_name = \"warpedcoords\" + alg + \"-\" + seq + \"-\" + cath + \"-\" + pos + \"-\" + \"cathHVC4.txt\"\n",
    "                    file1_copy = \"warpedcoords\" + alg + \"-\" + seq + \"-\" + cath + \"-\" + pos + \"-\" + \"cathHVC4-warp.txt\"\n",
    "                    file2_name = \"warpedcoords\" + alg + \"-\" + seq + \"-\" + cath + \"-\" + pos + \"-\" + \"cathHVC5.txt\"\n",
    "                    file2_copy = \"warpedcoords\" + alg + \"-\" + seq + \"-\" + cath + \"-\" + pos + \"-\" + \"cathHVC5-warp.txt\"\n",
    "\n",
    "\n",
    "                    copyfile(path_warped + file1_name, path + file1_copy)\n",
    "                    copyfile(path_warped + file2_name, path + file2_copy)\n",
    "                    counter += 2\n",
    "\n",
    "print(\"Done Copying!\")\n",
    "print(counter)"
   ]
  },
  {
   "cell_type": "code",
   "execution_count": 32,
   "metadata": {
    "collapsed": false,
    "deletable": true,
    "editable": true,
    "scrolled": true
   },
   "outputs": [
    {
     "name": "stdout",
     "output_type": "stream",
     "text": [
      "fastHadamard cath284 isoError 1.8362417650080063, Std 1.9025236864754733, n = 111 \n",
      "\n",
      "fastHadamard cath299 isoError 1.9586865828963325, Std 1.7490401710758607, n = 106 \n",
      "\n",
      "fastHadamard cath285 isoError 1.880617524109443, Std 1.7279333642165393, n = 108 \n",
      "\n",
      "SRI cath284 isoError nan, Std nan, n = 108 \n",
      "\n",
      "SRI cath299 isoError nan, Std nan, n = 108 \n",
      "\n",
      "SRI cath285 isoError nan, Std nan, n = 108 \n",
      "\n",
      "[nan, nan, nan]\n"
     ]
    },
    {
     "name": "stderr",
     "output_type": "stream",
     "text": [
      "/share/apps/python3/3.5.3/intel/lib/python3.5/site-packages/numpy-1.12.0-py3.5-linux-x86_64.egg/numpy/core/fromnumeric.py:2889: RuntimeWarning: Mean of empty slice.\n",
      "  out=out, **kwargs)\n",
      "/share/apps/python3/3.5.3/intel/lib/python3.5/site-packages/numpy-1.12.0-py3.5-linux-x86_64.egg/numpy/core/_methods.py:80: RuntimeWarning: invalid value encountered in double_scalars\n",
      "  ret = ret.dtype.type(ret / rcount)\n",
      "/share/apps/python3/3.5.3/intel/lib/python3.5/site-packages/numpy-1.12.0-py3.5-linux-x86_64.egg/numpy/core/_methods.py:135: RuntimeWarning: Degrees of freedom <= 0 for slice\n",
      "  keepdims=keepdims)\n",
      "/share/apps/python3/3.5.3/intel/lib/python3.5/site-packages/numpy-1.12.0-py3.5-linux-x86_64.egg/numpy/core/_methods.py:105: RuntimeWarning: invalid value encountered in true_divide\n",
      "  arrmean, rcount, out=arrmean, casting='unsafe', subok=False)\n",
      "/share/apps/python3/3.5.3/intel/lib/python3.5/site-packages/numpy-1.12.0-py3.5-linux-x86_64.egg/numpy/core/_methods.py:127: RuntimeWarning: invalid value encountered in double_scalars\n",
      "  ret = ret.dtype.type(ret / rcount)\n"
     ]
    },
    {
     "data": {
      "image/png": "[encoded data removed]",
      "text/plain": [
       "<matplotlib.figure.Figure at 0x2baa698395f8>"
      ]
     },
     "metadata": {},
     "output_type": "display_data"
    },
    {
     "name": "stdout",
     "output_type": "stream",
     "text": [
      "Done!\n"
     ]
    }
   ],
   "source": [
    "SRI_iso_error = [[], ## cath284\n",
    "                 [], ## cath299\n",
    "                 []] ## cath285\n",
    "\n",
    "Fh_iso_error =  [[], ## cath284\n",
    "                 [], ## cath299\n",
    "                 []] ## cath285\n",
    "\n",
    "Data_Array = [[Fh_iso_error], #FH \n",
    "              [SRI_iso_error]] #SRI  \n",
    "\n",
    "SRI_iso =       [[], ## cath284\n",
    "                 [], ## cath299\n",
    "                 []] ## cath285\n",
    "\n",
    "Fh_iso =        [[], ## cath284\n",
    "                 [], ## cath299\n",
    "                 []] ## cath285\n",
    "\n",
    "Data_Array2 = [[Fh_iso],  #FH \n",
    "               [SRI_iso]]   # SRI\n",
    "\n",
    "for SIndex, seq in enumerate(sequences): \n",
    "    for CIndex, cath in enumerate(catheters): \n",
    "        for PIndex, pos in enumerate(positions): \n",
    "            \n",
    "            if (seq == \"fastHadamard\"):\n",
    "                path = experiment_path + seq + \"/\" + cath + \"/\" + 'fastHadamard_Tracking-' + pos + \"/\"\n",
    "            elif (seq == 'SRI'): \n",
    "                path = experiment_path + seq + \"/\" + cath + \"/\" + 'SRI_Catheter_Tracking-' + pos + \"/\"\n",
    "                \n",
    "            files = glob.glob(path + \"warpedcoordsCentAlg4*.txt\")\n",
    "            \n",
    "            X_coord = []\n",
    "            Y_coord = []\n",
    "            Z_coord = []\n",
    "            \n",
    "            for file in files: \n",
    "\n",
    "                \n",
    "                file_suffix1 = (((file.split(\"/\"))[-1]).split(\"-\"))[-2] ## cathcoil#      two different file name types \n",
    "                file_suffix2 = (((file.split(\"/\"))[-1]).split(\"-\"))[-2] ## cathHVC#      need to  be seperated to determine coil number! \n",
    "            \n",
    "                if((file_suffix2 == \"cathHVC4\") or (file_suffix1 == \"cathcoil4\")): \n",
    "                    true_position = Ground_Truth[PIndex][CIndex][0] \n",
    "\n",
    "                elif((file_suffix2 == \"cathHVC5\") or (file_suffix1 == \"cathcoil5\")): \n",
    "                    true_position = Ground_Truth[PIndex][CIndex][1]\n",
    "                \n",
    "                else: \n",
    "                    raise Exception('Error could not find suffix! : {}'.format(file))\n",
    "                \n",
    "                X_truth = true_position[0]\n",
    "                Y_truth = true_position[1]\n",
    "                Z_truth = true_position[2]\n",
    "                \n",
    "                file_coords = open(file, 'r')\n",
    "                experiment_info = file_coords.readlines()\n",
    "                file_coords.close()\n",
    "                \n",
    "                for line in experiment_info:\n",
    "                    experimental_coords = (line.split(\" \")) \n",
    "                    X_coord.append(float(experimental_coords[0]) - X_truth)\n",
    "                    Y_coord.append(float(experimental_coords[1]) - Y_truth)\n",
    "                    Z_coord.append(float(experimental_coords[2]) - Z_truth)\n",
    "            \n",
    "            X_coord_mean = np.mean(X_coord)\n",
    "            Y_coord_mean = np.mean(Y_coord)\n",
    "            Z_coord_mean = np.mean(Z_coord)\n",
    "\n",
    "            X_std = np.std(X_coord)\n",
    "            Y_std = np.std(Y_coord)\n",
    "            Z_std = np.std(Z_coord)\n",
    "\n",
    "            Std = ((X_std)**2 + (Y_std)**2 + (Z_std)**2)**(1/2)\n",
    "\n",
    "            Error = ((X_coord_mean)**2 + (Y_coord_mean)**2 + (Z_coord_mean)**2)**(1/2)\n",
    "\n",
    "            Data_Array[SIndex][PIndex][CIndex].append(Error)\n",
    "            Data_Array[SIndex][PIndex][CIndex].append(Std)\n",
    "            Data_Array2[SIndex][PIndex][CIndex].append(X_coord)\n",
    "            Data_Array2[SIndex][PIndex][CIndex].append(Y_coord)\n",
    "            Data_Array2[SIndex][PIndex][CIndex].append(Z_coord)\n",
    "\n",
    "            print(seq + ' ' + cath + ' ' + pos + 'Error {}, Std {}, n = {} \\n'.format(Error, Std, len(experiment_info)))\n",
    "\n",
    "            \n",
    "Iso_error = [SRI_iso_error[0][0], SRI_iso_error[1][0], SRI_iso_error[2][0]] \n",
    "Iso_std = [SRI_iso_error[0][1], SRI_iso_error[1][1], SRI_iso_error[2][1]]\n",
    "\n",
    "print(Iso_error)\n",
    "hori_axis = np.array([0.5, 1.5, 2.5])\n",
    "\n",
    "plt.figure(figsize=(12,10))\n",
    "plt.title(\"Absolute error in position of micro-coils for varying catheters\")\n",
    "plt.ylabel(\"Absolute Error (mm)\")\n",
    "plt.xlabel(\"Catheters\")\n",
    "plt.errorbar(hori_axis, Iso_error, yerr = Iso_std, fmt = \"--o\", label = 'Isocenter')\n",
    "#plt.errorbar(hori_axis, Off_error, yerr = Off_std, fmt = \"--^\", label = 'Off-isocenter')\n",
    "plt.hlines(1.5, 0, 3, linestyles='dashed', label='Accuracy Requirement')\n",
    "plt.legend()\n",
    "plt.xticks(hori_axis, catheters)\n",
    "plt.show()\n",
    "        \n",
    "print('Done!')"
   ]
  },
  {
   "cell_type": "code",
   "execution_count": 33,
   "metadata": {
    "collapsed": false,
    "deletable": true,
    "editable": true
   },
   "outputs": [
    {
     "data": {
      "image/png": "[encoded data removed]",
      "text/plain": [
       "<matplotlib.figure.Figure at 0x2baa69806d68>"
      ]
     },
     "metadata": {},
     "output_type": "display_data"
    }
   ],
   "source": [
    "## temp copy paste to graph multiple algorithms on same chart \n",
    "\n",
    "SRI_iso_PNG_error = [1.00, 2.67, 1.70]           ## Cath284, Cath299, Cath285\n",
    "SRI_iso_PNG_std = [1.18, 1.47, 1.71] \n",
    "\n",
    "SRI_iso_FWHM_error = [1.21, 3.04, 2.66]          ## Cath284, Cath299, Cath285\n",
    "SRI_iso_FWHM_std = [1.31, 1.57, 0.79] \n",
    "\n",
    "hori_axis = np.array([1,2,3])\n",
    "\n",
    "plt.figure(figsize=(12,10))\n",
    "plt.title(\"Absolute error in position of micro-coils for varying catheters\")\n",
    "plt.ylabel(\"Absolute Error (mm)\")\n",
    "plt.xlabel(\"Catheters\")\n",
    "plt.errorbar(hori_axis + 0.55, SRI_iso_FWHM_error, yerr = SRI_iso_FWHM_std, color = 'blue', fmt = \"--o\", label = 'FWHM')\n",
    "plt.errorbar(hori_axis + 0.45, SRI_iso_PNG_error, yerr = SRI_iso_PNG_std, color = 'orange', fmt = \"--^\", label = 'PNG')\n",
    "plt.hlines(1.5, 1, 4, linestyles='dashed', label='Accuracy Requirement')\n",
    "plt.legend()\n",
    "plt.xticks(hori_axis + 0.5, catheters)\n",
    "plt.show()"
   ]
  },
  {
   "cell_type": "code",
   "execution_count": null,
   "metadata": {
    "collapsed": true,
    "deletable": true,
    "editable": true
   },
   "outputs": [],
   "source": [
    "\n"
   ]
  }
 ],
 "metadata": {
  "anaconda-cloud": {},
  "kernelspec": {
   "display_name": "Python 3",
   "language": "python",
   "name": "python3"
  },
  "language_info": {
   "codemirror_mode": {
    "name": "ipython",
    "version": 3
   },
   "file_extension": ".py",
   "mimetype": "text/x-python",
   "name": "python",
   "nbconvert_exporter": "python",
   "pygments_lexer": "ipython3",
   "version": "3.5.3"
  }
 },
 "nbformat": 4,
 "nbformat_minor": 1
}
